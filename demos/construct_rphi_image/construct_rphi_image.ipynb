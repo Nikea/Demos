{
 "cells": [
  {
   "cell_type": "markdown",
   "metadata": {},
   "source": [
    "# Constructing a rectangular version of image"
   ]
  },
  {
   "cell_type": "code",
   "execution_count": 1,
   "metadata": {
    "collapsed": true
   },
   "outputs": [],
   "source": [
    "import matplotlib.pyplot as plt\n",
    "\n",
    "import numpy as np\n",
    "from skbeam.core.image import construct_rphi_avg_image\n",
    "\n",
    "%matplotlib notebook"
   ]
  },
  {
   "cell_type": "code",
   "execution_count": 2,
   "metadata": {
    "collapsed": false
   },
   "outputs": [
    {
     "ename": "TypeError",
     "evalue": "construct_rphi_avg_image() got an unexpected keyword argument 'dims'",
     "output_type": "error",
     "traceback": [
      "\u001b[0;31m---------------------------------------------------------------------------\u001b[0m",
      "\u001b[0;31mTypeError\u001b[0m                                 Traceback (most recent call last)",
      "\u001b[0;32m<ipython-input-2-8ab3b62108a2>\u001b[0m in \u001b[0;36m<module>\u001b[0;34m()\u001b[0m\n\u001b[1;32m     15\u001b[0m \u001b[0mZ_masked\u001b[0m \u001b[0;34m=\u001b[0m \u001b[0mZ\u001b[0m\u001b[0;34m*\u001b[0m\u001b[0mmask\u001b[0m\u001b[0;34m\u001b[0m\u001b[0m\n\u001b[1;32m     16\u001b[0m \u001b[0;34m\u001b[0m\u001b[0m\n\u001b[0;32m---> 17\u001b[0;31m \u001b[0mZproj\u001b[0m \u001b[0;34m=\u001b[0m \u001b[0mconstruct_rphi_avg_image\u001b[0m\u001b[0;34m(\u001b[0m\u001b[0mradii\u001b[0m\u001b[0;34m,\u001b[0m \u001b[0mangles\u001b[0m\u001b[0;34m,\u001b[0m \u001b[0mZ\u001b[0m\u001b[0;34m,\u001b[0m \u001b[0mdims\u001b[0m\u001b[0;34m=\u001b[0m\u001b[0;34m(\u001b[0m\u001b[0;36m800\u001b[0m\u001b[0;34m,\u001b[0m\u001b[0;36m800\u001b[0m\u001b[0;34m)\u001b[0m\u001b[0;34m)\u001b[0m\u001b[0;34m\u001b[0m\u001b[0m\n\u001b[0m\u001b[1;32m     18\u001b[0m \u001b[0mZproj_masked\u001b[0m \u001b[0;34m=\u001b[0m \u001b[0mconstruct_rphi_avg_image\u001b[0m\u001b[0;34m(\u001b[0m\u001b[0mradii\u001b[0m\u001b[0;34m,\u001b[0m \u001b[0mangles\u001b[0m\u001b[0;34m,\u001b[0m \u001b[0mZ_masked\u001b[0m\u001b[0;34m,\u001b[0m \u001b[0mdims\u001b[0m\u001b[0;34m=\u001b[0m\u001b[0;34m(\u001b[0m\u001b[0;36m800\u001b[0m\u001b[0;34m,\u001b[0m\u001b[0;36m800\u001b[0m\u001b[0;34m)\u001b[0m\u001b[0;34m,\u001b[0m\u001b[0mmask\u001b[0m\u001b[0;34m=\u001b[0m\u001b[0mmask\u001b[0m\u001b[0;34m)\u001b[0m\u001b[0;34m\u001b[0m\u001b[0m\n",
      "\u001b[0;31mTypeError\u001b[0m: construct_rphi_avg_image() got an unexpected keyword argument 'dims'"
     ]
    }
   ],
   "source": [
    "# test construction of rphi\n",
    "angles = np.linspace(0, 2*np.pi, 360)\n",
    "radii = np.linspace(0, 800, 800)\n",
    "\n",
    "ANGLES, RADII = np.meshgrid(angles, radii)\n",
    "\n",
    "Z = np.cos(ANGLES*10)**2*RADII**2\n",
    "\n",
    "mask = np.ones_like(Z)\n",
    "mask[100:200] = 0\n",
    "mask[:,100:200] = 0\n",
    "mask[:,500:643] = 0\n",
    "mask[70:130] = 0\n",
    "\n",
    "Z_masked = Z*mask\n",
    "\n",
    "Zproj = construct_rphi_avg_image(radii, angles, Z, shape=(800,800))\n",
    "Zproj_masked = construct_rphi_avg_image(radii, angles, Z_masked, shape=(800,800),mask=mask)"
   ]
  },
  {
   "cell_type": "code",
   "execution_count": null,
   "metadata": {
    "collapsed": false
   },
   "outputs": [],
   "source": [
    "plt.figure(0);plt.clf()\n",
    "plt.subplot(2,2,1).set_aspect(\"auto\", adjustable=\"box\");\n",
    "plt.title(\"image\")\n",
    "plt.imshow(Z)\n",
    "plt.subplot(2,2,2).set_aspect(\"equal\")\n",
    "plt.title(\"reprojection\")\n",
    "plt.imshow(Zproj)\n",
    "plt.subplot(2,2,3).set_aspect(\"auto\", adjustable=\"box\")\n",
    "plt.title(\"masked version\")\n",
    "plt.imshow(Z_masked)\n",
    "plt.subplot(2,2,4).set_aspect(\"equal\")\n",
    "plt.title(\"mask aware reprojection\")\n",
    "plt.imshow(Zproj_masked)"
   ]
  },
  {
   "cell_type": "code",
   "execution_count": null,
   "metadata": {
    "collapsed": true
   },
   "outputs": [],
   "source": []
  }
 ],
 "metadata": {
  "anaconda-cloud": {},
  "kernelspec": {
   "display_name": "Python [conda env:py3]",
   "language": "python",
   "name": "conda-env-py3-py"
  },
  "language_info": {
   "codemirror_mode": {
    "name": "ipython",
    "version": 3
   },
   "file_extension": ".py",
   "mimetype": "text/x-python",
   "name": "python",
   "nbconvert_exporter": "python",
   "pygments_lexer": "ipython3",
   "version": "3.5.2"
  }
 },
 "nbformat": 4,
 "nbformat_minor": 1
}
