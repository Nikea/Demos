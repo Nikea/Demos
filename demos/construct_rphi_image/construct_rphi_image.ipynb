{
 "cells": [
  {
   "cell_type": "markdown",
   "metadata": {},
   "source": [
    "# Constructing a rectangular version of image\n",
    "\n",
    "This notebook will show you how to use `construct_rphi_image` to reconstruct an image from polar to Cartesian coordinates.\n",
    "\n",
    "This will be done through an application: filling in gapped regions of a sample whose symmetry is known.\n",
    "\n",
    "\n",
    "In this case, the sample has 10 fold symmetry."
   ]
  },
  {
   "cell_type": "code",
   "execution_count": null,
   "metadata": {
    "collapsed": false
   },
   "outputs": [],
   "source": [
    "# imports\n",
    "import matplotlib.pyplot as plt\n",
    "import numpy as np\n",
    "from skbeam.core.image import construct_rphi_avg_image\n",
    "\n",
    "%matplotlib inline"
   ]
  },
  {
   "cell_type": "markdown",
   "metadata": {},
   "source": [
    "## First we generate the image"
   ]
  },
  {
   "cell_type": "code",
   "execution_count": null,
   "metadata": {
    "collapsed": false,
    "scrolled": true
   },
   "outputs": [],
   "source": [
    "# first generate some random scattering pattern\n",
    "# There are missing regions\n",
    "from skbeam.core.utils import angle_grid, radial_grid\n",
    "shape = 800,800\n",
    "x0,y0 = 401, 401\n",
    "ANGLES = angle_grid((y0, x0), shape)\n",
    "RADII = radial_grid((y0, x0), shape)\n",
    "img = np.cos(ANGLES*5)**2*RADII**2\n",
    "\n",
    "mask = np.ones_like((ANGLES))\n",
    "mask[100:200] = 0\n",
    "mask[:,100:200] = 0\n",
    "mask[:,500:643] = 0\n",
    "mask[70:130] = 0\n",
    "\n",
    "img*=mask\n",
    "\n",
    "plt.figure(0);plt.clf();\n",
    "plt.imshow(mask*img)"
   ]
  },
  {
   "cell_type": "markdown",
   "metadata": {},
   "source": [
    "## 2. Next re-partition image into a polar grid"
   ]
  },
  {
   "cell_type": "code",
   "execution_count": null,
   "metadata": {
    "collapsed": false
   },
   "outputs": [],
   "source": [
    "# reconstruct this into a polar grid\n",
    "from skbeam.core.accumulators.binned_statistic import RPhiBinnedStatistic\n",
    "\n",
    "rphibinstat = RPhiBinnedStatistic(shape, bins=(400,360), mask=mask, origin=(y0,x0))\n",
    "rphi_img = rphibinstat(img)\n",
    "# create mask from np.nans since RPhiBinnedStatistic fills masked regions with np.nans\n",
    "rphimask = np.ones_like(rphi_img)\n",
    "rphimask[np.where(np.isnan(rphi_img))] = 0\n",
    "\n",
    "#plotting partition and mask\n",
    "plt.figure(2);plt.clf();\n",
    "plt.subplot(1,2,1)\n",
    "plt.imshow(rphi_img)\n",
    "plt.subplot(1,2,2)\n",
    "plt.imshow(rphimask)"
   ]
  },
  {
   "cell_type": "markdown",
   "metadata": {},
   "source": [
    "## Now regenerate the image to test construct_rphi_image"
   ]
  },
  {
   "cell_type": "code",
   "execution_count": null,
   "metadata": {
    "collapsed": false
   },
   "outputs": [],
   "source": [
    "# get angles and radii from (q, phi) polar coordinate system\n",
    "angles = rphibinstat.bin_centers[1]\n",
    "radii = rphibinstat.bin_centers[0]\n",
    "\n",
    "# reproject\n",
    "Zproj = construct_rphi_avg_image(radii, angles, rphi_img, shape=(800,800))"
   ]
  },
  {
   "cell_type": "markdown",
   "metadata": {},
   "source": [
    "### But we know we have 10 fold symmetry, so let's do something more interesting\n",
    "\n",
    "Let's add the same image but before reconstructing, shift phi by 2pi/10...."
   ]
  },
  {
   "cell_type": "code",
   "execution_count": null,
   "metadata": {
    "collapsed": false
   },
   "outputs": [],
   "source": [
    "sym = int(10)\n",
    "polar_shape = 500, 360 \n",
    "origin = x0, y0\n",
    "\n",
    "def reconstruct_nfold(img, sym, polar_shape, mask=None, origin=None):\n",
    "    ''' Reconstruct an image assuming a certain symmetry.\n",
    "    \n",
    "        Parameters\n",
    "        ----------\n",
    "        img : the image\n",
    "        \n",
    "        sym : the symmetry of the sample\n",
    "        \n",
    "        polar_shape : the shape of the new polar coordinate image\n",
    "        \n",
    "        Returns\n",
    "        -------\n",
    "        reconstructed_image : the reconstructed  image\n",
    "    \n",
    "    '''\n",
    "    shape = img.shape\n",
    "    rphibinstat = RPhiBinnedStatistic(shape, bins=polar_shape, mask=mask, origin=origin)\n",
    "    angles = rphibinstat.bin_centers[1]\n",
    "    radii = rphibinstat.bin_centers[0]\n",
    "    rphi_img = rphibinstat(img)\n",
    "    # create mask from np.nans since RPhiBinnedStatistic fills masked regions with np.nans\n",
    "    rphimask = np.ones_like(rphi_img)\n",
    "    rphimask[np.where(np.isnan(rphi_img))] = 0\n",
    "\n",
    "    reconstructed_image = np.zeros_like(img)\n",
    "    reconstructed_image_mask = np.zeros_like(img,dtype=int)\n",
    "    # symmetry\n",
    "    dphi = 2*np.pi/float(sym)\n",
    "    for i in range(sym):\n",
    "        anglesp = angles + dphi*i\n",
    "        imgtmp = construct_rphi_avg_image(radii, anglesp, rphi_img,\n",
    "                                          shape=shape, center=origin, mask=rphimask)\n",
    "        w = np.where(~np.isnan(imgtmp))\n",
    "        reconstructed_image[w] += imgtmp[w]\n",
    "        reconstructed_image_mask += (~np.isnan(imgtmp)).astype(int)\n",
    "    \n",
    "    # the mask keeps count of included pixels. Average by this amount\n",
    "    reconstructed_image /= reconstructed_image_mask\n",
    "    \n",
    "    return reconstructed_image\n",
    "\n",
    "reconstructed_image = reconstruct_nfold(img, sym, polar_shape, mask=mask, origin=origin)"
   ]
  },
  {
   "cell_type": "markdown",
   "metadata": {},
   "source": [
    "## Plot the results"
   ]
  },
  {
   "cell_type": "code",
   "execution_count": null,
   "metadata": {
    "collapsed": false
   },
   "outputs": [],
   "source": [
    "# And finally we have the reconstructed image assuming 5 fold symmetry\n",
    "plt.figure(4);plt.clf()\n",
    "plt.subplot(2,2,1).set_aspect(\"auto\", adjustable=\"box\");\n",
    "plt.title(\"Image\")\n",
    "plt.imshow(img)\n",
    "plt.subplot(2,2,2).set_aspect(\"equal\")\n",
    "plt.title(\"Reprojection no symmetry\")\n",
    "plt.imshow(Zproj)\n",
    "plt.subplot(2,2,3).set_aspect(\"auto\", adjustable=\"box\")\n",
    "plt.title(\"Reprojection assuming 10 fold symmetry\")\n",
    "plt.imshow(reconstructed_image)"
   ]
  },
  {
   "cell_type": "code",
   "execution_count": null,
   "metadata": {
    "collapsed": false
   },
   "outputs": [],
   "source": []
  },
  {
   "cell_type": "code",
   "execution_count": null,
   "metadata": {
    "collapsed": true
   },
   "outputs": [],
   "source": []
  },
  {
   "cell_type": "code",
   "execution_count": null,
   "metadata": {
    "collapsed": false
   },
   "outputs": [],
   "source": []
  },
  {
   "cell_type": "code",
   "execution_count": null,
   "metadata": {
    "collapsed": true
   },
   "outputs": [],
   "source": []
  },
  {
   "cell_type": "code",
   "execution_count": null,
   "metadata": {
    "collapsed": false
   },
   "outputs": [],
   "source": []
  },
  {
   "cell_type": "code",
   "execution_count": null,
   "metadata": {
    "collapsed": true
   },
   "outputs": [],
   "source": []
  },
  {
   "cell_type": "code",
   "execution_count": null,
   "metadata": {
    "collapsed": true
   },
   "outputs": [],
   "source": []
  },
  {
   "cell_type": "code",
   "execution_count": null,
   "metadata": {
    "collapsed": true
   },
   "outputs": [],
   "source": []
  }
 ],
 "metadata": {
  "anaconda-cloud": {},
  "kernelspec": {
   "display_name": "Python [conda env:py3]",
   "language": "python",
   "name": "conda-env-py3-py"
  },
  "language_info": {
   "codemirror_mode": {
    "name": "ipython",
    "version": 3
   },
   "file_extension": ".py",
   "mimetype": "text/x-python",
   "name": "python",
   "nbconvert_exporter": "python",
   "pygments_lexer": "ipython3",
   "version": "3.5.2"
  }
 },
 "nbformat": 4,
 "nbformat_minor": 1
}
