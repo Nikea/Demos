{
 "cells": [
  {
   "cell_type": "markdown",
   "metadata": {},
   "source": [
    "# Generate Region of Interests (ROI) labeled arrays for simple shapes\n",
    "This example notebook explain the use of analysis module \"skxray/core/roi\" https://github.com/scikit-xray/scikit-xray/blob/master/skxray/core/roi.py "
   ]
  },
  {
   "cell_type": "code",
   "execution_count": 1,
   "metadata": {
    "collapsed": false
   },
   "outputs": [
    {
     "name": "stderr",
     "output_type": "stream",
     "text": [
      ":0: FutureWarning: IPython widgets are experimental and may change in the future.\n"
     ]
    }
   ],
   "source": [
    "import skxray.core.roi as roi\n",
    "import skxray.core.correlation as corr\n",
    "\n",
    "import numpy as np\n",
    "\n",
    "import matplotlib.pyplot as plt\n",
    "%matplotlib inline\n",
    "from matplotlib.ticker import MaxNLocator\n",
    "from matplotlib.colors import LogNorm\n",
    "\n",
    "import xray_vision.mpl_plotting as mpl_plot"
   ]
  },
  {
   "cell_type": "markdown",
   "metadata": {},
   "source": [
    "###Easily switch between interactive and static matplotlib plots"
   ]
  },
  {
   "cell_type": "code",
   "execution_count": 2,
   "metadata": {
    "collapsed": true
   },
   "outputs": [],
   "source": [
    "interactive_mode = False\n",
    "\n",
    "import matplotlib as mpl\n",
    "if interactive_mode:\n",
    "    %matplotlib notebook\n",
    "else:\n",
    "    %matplotlib inline\n",
    "\n",
    "backend = mpl.get_backend()\n",
    "cmap='Dark2'"
   ]
  },
  {
   "cell_type": "markdown",
   "metadata": {},
   "source": [
    "## Rectangle region of interests."
   ]
  },
  {
   "cell_type": "code",
   "execution_count": 4,
   "metadata": {
    "collapsed": false
   },
   "outputs": [
    {
     "data": {
      "image/png": "[encoded data removed]",
      "text/plain": [
       "<matplotlib.figure.Figure at 0x10ad55150>"
      ]
     },
     "metadata": {},
     "output_type": "display_data"
    }
   ],
   "source": [
    "# Image shape which is used to determine the maximum extent of output pixel coordinates\n",
    "shape = (15, 26)\n",
    "\n",
    "# coordinates of the upper-left corner and width and height of each rectangle\n",
    "roi_data = np.array(([2, 2, 6, 3], [6, 7, 8, 5], [8, 18, 5, 10]),\n",
    "                        dtype=np.int64)\n",
    "\n",
    "#Elements not inside any ROI are zero; elements inside each ROI are 1, 2, 3, corresponding\n",
    "# to the order they are specified in coords.\n",
    "label_array = roi.rectangles(roi_data, shape)\n",
    "roi_inds, pixel_list = roi.extract_label_indices(label_array)\n",
    "\n",
    "# plot the figure\n",
    "fig, axes = plt.subplots(figsize=(6, 5))\n",
    "im = mpl_plot.show_label_array(axes, label_array, cmap)\n",
    "plt.show()"
   ]
  },
  {
   "cell_type": "markdown",
   "metadata": {},
   "source": [
    "## Draw annual (ring-shaped) regions of interest"
   ]
  },
  {
   "cell_type": "code",
   "execution_count": 5,
   "metadata": {
    "collapsed": true
   },
   "outputs": [],
   "source": [
    "center = (100., 100.)   # center of the rings\n",
    "\n",
    "# Image shape which is used to determine the maximum extent of output pixel coordinates\n",
    "img_shape = (200, 205)   \n",
    "\n",
    "first_q = 10.0 # inner radius of the inner-most ring\n",
    "delta_q = 5.0  #ring thickness\n",
    "\n",
    "num_rings = 7  # number of Q rings\n",
    "\n",
    "# step or spacing, spacing between rings \n",
    "one_step_q = 5.0  #  one spacing between rings\n",
    "\n",
    "step_q = [2.5, 3.0, 5.8]   # differnt spacing between rings"
   ]
  },
  {
   "cell_type": "markdown",
   "metadata": {},
   "source": [
    "### Test when there is same spacing between rings"
   ]
  },
  {
   "cell_type": "code",
   "execution_count": 6,
   "metadata": {
    "collapsed": false
   },
   "outputs": [
    {
     "data": {
      "text/plain": [
       "array([[ 10.,  15.],\n",
       "       [ 20.,  25.],\n",
       "       [ 30.,  35.],\n",
       "       [ 40.,  45.],\n",
       "       [ 50.,  55.],\n",
       "       [ 60.,  65.],\n",
       "       [ 70.,  75.]])"
      ]
     },
     "execution_count": 6,
     "metadata": {},
     "output_type": "execute_result"
    }
   ],
   "source": [
    "# inner and outer radius for each ring\n",
    "edges = roi.ring_edges(first_q, width=delta_q, spacing=one_step_q,\n",
    "                           num_rings=num_rings)\n",
    "edges"
   ]
  },
  {
   "cell_type": "code",
   "execution_count": 7,
   "metadata": {
    "collapsed": false
   },
   "outputs": [
    {
     "data": {
      "image/png": "[encoded data removed]",
      "text/plain": [
       "<matplotlib.figure.Figure at 0x10af9d110>"
      ]
     },
     "metadata": {},
     "output_type": "display_data"
    }
   ],
   "source": [
    "#Elements not inside any ROI are zero; elements inside each\n",
    "#ROI are 1, 2, 3, corresponding to the order they are specified in edges.\n",
    "label_array = roi.rings(edges, center, img_shape)\n",
    "\n",
    "# plot the figure\n",
    "fig, axes = plt.subplots(figsize=(6, 5))\n",
    "axes.set_title(\"Same spacing between rings\")\n",
    "im = mpl_plot.show_label_array(axes, label_array, cmap)\n",
    "plt.show()"
   ]
  },
  {
   "cell_type": "markdown",
   "metadata": {},
   "source": [
    "### Test when there is different spacing between rings"
   ]
  },
  {
   "cell_type": "code",
   "execution_count": 8,
   "metadata": {
    "collapsed": false
   },
   "outputs": [
    {
     "name": "stdout",
     "output_type": "stream",
     "text": [
      "('edges when there is different spacing between rings', array([[ 10. ,  15. ],\n",
      "       [ 17.5,  22.5],\n",
      "       [ 25.5,  30.5],\n",
      "       [ 36.3,  41.3]]))\n"
     ]
    }
   ],
   "source": [
    "# inner and outer radius for each ring\n",
    "\n",
    "edges = roi.ring_edges(first_q, width=delta_q, spacing=step_q,\n",
    "                           num_rings=4)\n",
    "print(\"edges when there is different spacing between rings\", edges)"
   ]
  },
  {
   "cell_type": "code",
   "execution_count": 18,
   "metadata": {
    "collapsed": false
   },
   "outputs": [
    {
     "data": {
      "image/png": "[encoded data removed]",
      "text/plain": [
       "<matplotlib.figure.Figure at 0x10c3ae210>"
      ]
     },
     "metadata": {},
     "output_type": "display_data"
    }
   ],
   "source": [
    "#Elements not inside any ROI are zero; elements inside each\n",
    "#ROI are 1, 2, 3, corresponding to the order they are specified in edges.\n",
    "label_array = roi.rings(edges, center, img_shape)\n",
    "\n",
    "# plot the figure\n",
    "fig, axes = plt.subplots(figsize=(6, 5))\n",
    "axes.set_title(\"Different spacing between rings\")\n",
    "axes.set_xlim(50, 150)\n",
    "axes.set_ylim(50, 150)\n",
    "im = mpl_plot.show_label_array(axes, label_array, cmap)\n",
    "plt.show()\n"
   ]
  },
  {
   "cell_type": "markdown",
   "metadata": {},
   "source": [
    "### Test when there is no spacing between rings"
   ]
  },
  {
   "cell_type": "code",
   "execution_count": 19,
   "metadata": {
    "collapsed": false
   },
   "outputs": [
    {
     "data": {
      "text/plain": [
       "array([[  0.,   5.],\n",
       "       [  5.,  10.],\n",
       "       [ 10.,  15.],\n",
       "       [ 15.,  20.]])"
      ]
     },
     "execution_count": 19,
     "metadata": {},
     "output_type": "execute_result"
    }
   ],
   "source": [
    "# inner and outer radius for each ring\n",
    "edges = roi.ring_edges(first_q, width=delta_q, num_rings=num_rings)\n",
    "edges"
   ]
  },
  {
   "cell_type": "code",
   "execution_count": 20,
   "metadata": {
    "collapsed": false
   },
   "outputs": [
    {
     "data": {
      "image/png": "[encoded data removed]",
      "text/plain": [
       "<matplotlib.figure.Figure at 0x10b2749d0>"
      ]
     },
     "metadata": {},
     "output_type": "display_data"
    }
   ],
   "source": [
    "#Elements not inside any ROI are zero; elements inside each\n",
    "#ROI are 1, 2, 3, corresponding to the order they are specified in edges.\n",
    "label_array = roi.rings(edges, center, img_shape)\n",
    "\n",
    "# plot the figure\n",
    "fig, axes = plt.subplots(figsize=(6, 5))\n",
    "axes.set_title(\"There is no spacing between rings\")\n",
    "axes.set_xlim(50, 150)\n",
    "axes.set_ylim(50, 150)\n",
    "im = mpl_plot.show_label_array(axes, label_array, cmap)\n",
    "plt.show()"
   ]
  },
  {
   "cell_type": "markdown",
   "metadata": {},
   "source": [
    "### Generate a ROI of Segmented Rings¶"
   ]
  },
  {
   "cell_type": "code",
   "execution_count": 12,
   "metadata": {
    "collapsed": false
   },
   "outputs": [],
   "source": [
    "center = (75, 75)   # center of the rings\n",
    "\n",
    "#Image shape which is used to determine the maximum extent of output pixel coordinates\n",
    "img_shape = (150, 140) \n",
    "\n",
    "first_q = 5.0  # inner radius of the inner-most ring\n",
    "delta_q = 5.0  #ring thickness\n",
    "num_rings = 4  # number of rings\n",
    "\n",
    "slicing = 4 # number of pie slices or list of angles in radians\n",
    "spacing = 4 # margin between rings, 0 by default"
   ]
  },
  {
   "cell_type": "markdown",
   "metadata": {},
   "source": [
    "#### find the inner and outer radius of each ring\n"
   ]
  },
  {
   "cell_type": "code",
   "execution_count": 13,
   "metadata": {
    "collapsed": false
   },
   "outputs": [
    {
     "data": {
      "text/plain": [
       "array([[  5.,  10.],\n",
       "       [ 14.,  19.],\n",
       "       [ 23.,  28.],\n",
       "       [ 32.,  37.]])"
      ]
     },
     "execution_count": 13,
     "metadata": {},
     "output_type": "execute_result"
    }
   ],
   "source": [
    "# inner and outer radius for each ring\n",
    "edges = roi.ring_edges(first_q, width=delta_q, spacing=spacing,\n",
    "                           num_rings=num_rings)\n",
    "\n",
    "edges"
   ]
  },
  {
   "cell_type": "code",
   "execution_count": 14,
   "metadata": {
    "collapsed": false
   },
   "outputs": [
    {
     "data": {
      "image/png": "[encoded data removed]",
      "text/plain": [
       "<matplotlib.figure.Figure at 0x10af9df90>"
      ]
     },
     "metadata": {},
     "output_type": "display_data"
    }
   ],
   "source": [
    "#Elements not inside any ROI are zero; elements inside each\n",
    "#ROI are 1, 2, 3, corresponding to the order they are specified in edges.\n",
    "label_array = roi.segmented_rings(edges, slicing, center,\n",
    "                                      img_shape, offset_angle=0)\n",
    "\n",
    "# plot the figure\n",
    "fig, axes = plt.subplots(figsize=(6, 5))\n",
    "axes.set_title(\"Segmented Rings\")\n",
    "axes.set_xlim(38, 120)\n",
    "axes.set_ylim(38, 120)\n",
    "im = mpl_plot.show_label_array(axes, label_array, cmap)\n",
    "plt.show()\n"
   ]
  },
  {
   "cell_type": "markdown",
   "metadata": {},
   "source": [
    "### Generate a  ROI of Pies"
   ]
  },
  {
   "cell_type": "code",
   "execution_count": 15,
   "metadata": {
    "collapsed": false
   },
   "outputs": [
    {
     "data": {
      "text/plain": [
       "array([[  0.,  50.]])"
      ]
     },
     "execution_count": 15,
     "metadata": {},
     "output_type": "execute_result"
    }
   ],
   "source": [
    "first_q = 0  \n",
    "\n",
    "# inner and outer radius for each ring\n",
    "edges = roi.ring_edges(first_q, width=50, num_rings=1)\n",
    "\n",
    "edges"
   ]
  },
  {
   "cell_type": "code",
   "execution_count": 16,
   "metadata": {
    "collapsed": false
   },
   "outputs": [
    {
     "data": {
      "image/png": "[encoded data removed]",
      "text/plain": [
       "<matplotlib.figure.Figure at 0x10c356a90>"
      ]
     },
     "metadata": {},
     "output_type": "display_data"
    },
    {
     "data": {
      "text/plain": [
       "<matplotlib.figure.Figure at 0x10c5280d0>"
      ]
     },
     "execution_count": 16,
     "metadata": {},
     "output_type": "execute_result"
    },
    {
     "data": {
      "text/plain": [
       "<matplotlib.figure.Figure at 0x10c5280d0>"
      ]
     },
     "metadata": {},
     "output_type": "display_data"
    }
   ],
   "source": [
    "slicing = 10 # number of pie slices or list of angles in radians\n",
    "\n",
    "#Elements not inside any ROI are zero; elements inside each\n",
    "#ROI are 1, 2, 3, corresponding to the order they are specified in edges.\n",
    "label_array = roi.segmented_rings(edges, slicing, center,\n",
    "                                      img_shape, offset_angle=0)\n",
    "\n",
    "# plot the figure\n",
    "fig, axes = plt.subplots(figsize=(6, 5))\n",
    "axes.set_title(\"Pies\")\n",
    "axes.set_xlim(20, 140)\n",
    "axes.set_ylim(20, 140)\n",
    "im = mpl_plot.show_label_array(axes, label_array, cmap)\n",
    "plt.show()\n",
    "plt.figure()"
   ]
  },
  {
   "cell_type": "code",
   "execution_count": 17,
   "metadata": {
    "collapsed": false
   },
   "outputs": [
    {
     "name": "stdout",
     "output_type": "stream",
     "text": [
      "0.0.4+105.ge27b978\n"
     ]
    }
   ],
   "source": [
    "import skxray\n",
    "print(skxray.__version__)\n"
   ]
  },
  {
   "cell_type": "code",
   "execution_count": null,
   "metadata": {
    "collapsed": true
   },
   "outputs": [],
   "source": []
  }
 ],
 "metadata": {
  "kernelspec": {
   "display_name": "Python 2",
   "language": "python",
   "name": "python2"
  },
  "language_info": {
   "codemirror_mode": {
    "name": "ipython",
    "version": 2
   },
   "file_extension": ".py",
   "mimetype": "text/x-python",
   "name": "python",
   "nbconvert_exporter": "python",
   "pygments_lexer": "ipython2",
   "version": "2.7.10"
  }
 },
 "nbformat": 4,
 "nbformat_minor": 0
}
