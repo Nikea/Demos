{
 "cells": [
  {
   "cell_type": "markdown",
   "metadata": {},
   "source": [
    "### This is an example of using real experimental data to plot the HK plane\n",
    "- six angles(motor position) \n",
    "- image stack. \n",
    "\n",
    "Here nsls2.recip.py -> process_to_q function is used to convert to Q\n",
    "(reciprocal space) and then that data is gridded using nsls2.core.py\n",
    "-> process_grid function.\n"
   ]
  },
  {
   "cell_type": "code",
   "execution_count": 1,
   "metadata": {
    "collapsed": true
   },
   "outputs": [],
   "source": [
    "from __future__ import absolute_import, division, print_function\n",
    "import numpy as np\n",
    "import numpy.ma as ma\n",
    "import os\n",
    "import matplotlib.pyplot as plt\n",
    "from skxray.core import recip\n",
    "from skxray.core.utils import grid3d\n",
    "import zipfile\n",
    "import six\n",
    "import time as ttime"
   ]
  },
  {
   "cell_type": "code",
   "execution_count": 2,
   "metadata": {
    "collapsed": true
   },
   "outputs": [],
   "source": [
    "def recip_ex(detector_size, pixel_size, calibrated_center, dist_sample,\n",
    "             ub_mat, wavelength, motors, i_stack, H_range, K_range, L_range):\n",
    "    # convert to Q space\n",
    "    q_values = recip.process_to_q(motors, detector_size, pixel_size,\n",
    "                                  calibrated_center, dist_sample,\n",
    "                                  wavelength, ub_mat)\n",
    "\n",
    "    # minimum and maximum values of the voxel\n",
    "    q_min = np.array([H_range[0], K_range[0], L_range[0]])\n",
    "    q_max = np.array([H_range[1], K_range[1], L_range[1]])\n",
    "\n",
    "    # no. of bins\n",
    "    dqn = np.array([40, 40, 1])\n",
    "\n",
    "    # process the grid values\n",
    "    (grid_data, grid_occu, std_err,\n",
    "     grid_out, bounds) = grid3d(q_values, i_stack, dqn[0], dqn[1],\n",
    "                                            dqn[2])\n",
    "\n",
    "    grid = np.mgrid[0:dqn[0], 0:dqn[1], 0:dqn[2]]\n",
    "    r = (q_max - q_min) / dqn\n",
    "\n",
    "    X = grid[0] * r[0] + q_min[0]\n",
    "    Y = grid[1] * r[1] + q_min[1]\n",
    "    Z = grid[2] * r[2] + q_min[2]\n",
    "\n",
    "    # creating a mask\n",
    "    _mask = grid_occu <= 10\n",
    "    grid_mask_data = ma.masked_array(grid_data, _mask)\n",
    "    grid_mask_std_err = ma.masked_array(std_err, _mask)\n",
    "    grid_mask_occu = ma.masked_array(grid_occu, _mask)\n",
    "\n",
    "    return X, Y, Z, grid_mask_data\n"
   ]
  },
  {
   "cell_type": "code",
   "execution_count": 3,
   "metadata": {
    "collapsed": true
   },
   "outputs": [],
   "source": [
    "def plot_slice(x, y, i_slice, lx, H_range, K_range):\n",
    "    # plot the HK plane\n",
    "\n",
    "    i_slice_range = [0.006, 0.0115]\n",
    "\n",
    "    f = plt.figure(\"HK plane\", figsize=(7.5, 2.3))\n",
    "    plt.subplots_adjust(left=0.10, bottom=0.155555,\n",
    "                        right=1.05, top=0.95,\n",
    "                        wspace=0.2, hspace=0.45)\n",
    "    subp = f.add_subplot(111)\n",
    "\n",
    "    cnt = subp.contourf(x, y, i_slice, np.linspace(i_slice_range[0],\n",
    "                                                   i_slice_range[1],\n",
    "                                                   50, endpoint=True),\n",
    "                        cmap='hot',\n",
    "                        extend='both')\n",
    "    subp.axis('scaled')\n",
    "    subp.set_xlim(H_range)\n",
    "    subp.set_ylim(K_range)\n",
    "\n",
    "    subp.set_xlabel(\"H\", size=10)\n",
    "    subp.set_ylabel(\"K\", size=10)\n",
    "\n",
    "    subp.tick_params(labelsize=9)\n",
    "\n",
    "    cbar = plt.colorbar(cnt, ticks=np.linspace(i_slice_range[0],\n",
    "                                               i_slice_range[1],\n",
    "                                               3, endpoint=True),\n",
    "                        format='%.4f')\n",
    "    cbar.ax.tick_params(labelsize=8)\n"
   ]
  },
  {
   "cell_type": "code",
   "execution_count": 4,
   "metadata": {
    "collapsed": true
   },
   "outputs": [],
   "source": [
    "def get_data(X, Y, grid_mask_data, plane):\n",
    "    HKL = 'HKL'\n",
    "    for i in plane:\n",
    "        HKL = HKL.replace(i, '')\n",
    "\n",
    "    HH = X[:, :, :].squeeze()\n",
    "    H = X[:, 0, 0]\n",
    "    KK = Y[:, :, :].squeeze()\n",
    "    K = Y[0, :, 0]\n",
    "\n",
    "    i_slice = grid_mask_data[:, :, :].squeeze()  # intensity slice\n",
    "    lx = eval(plane[0])\n",
    "\n",
    "    return i_slice, lx"
   ]
  },
  {
   "cell_type": "markdown",
   "metadata": {},
   "source": [
    "### define some metadata"
   ]
  },
  {
   "cell_type": "code",
   "execution_count": 5,
   "metadata": {
    "collapsed": true
   },
   "outputs": [],
   "source": [
    "H_range = [-0.270, -0.200]\n",
    "K_range = [+0.010, -0.010]\n",
    "L_range = [+1.370, +1.410]\n",
    "\n",
    "detector_size = (256, 256)\n",
    "pixel_size = (0.0135*8, 0.0135*8)  # (mm)\n",
    "calibrated_center = (256/2.0, 256/2.0)  # (mm)\n",
    "dist_sample = 355.0  # (mm)\n",
    "\n",
    "# ub matrix data\n",
    "ub_mat = np. array([[-1.39772305e-01, -1.65559565e+00, -1.40501716e-02],\n",
    "                    [-1.65632438e+00, 1.39853170e-01, -1.84650965e-04],\n",
    "                    [4.79923390e-03, 4.91318724e-02, -4.72922724e-01]])\n",
    "\n",
    "# wavelength data\n",
    "wavelength = np.array([13.28559417])\n",
    "\n",
    "# six angles data\n",
    "motors = np.array([[102.3546, 77.874608, -90., 0., 0., 1.0205],\n",
    "                   [102.6738, 78.285008, -90., 0., 0., 1.0575],\n",
    "                   [102.9969, 78.696608, -90., 0., 0., 1.0945],\n",
    "                   [103.3236, 79.108808, -90., 0., 0., 1.1315],\n",
    "                   [103.6545, 79.521908, -90., 0., 0., 1.1685],\n",
    "                   [103.9893, 79.935908, -90., 0., 0., 1.2055],\n",
    "                   [104.3283, 80.350808, -90., 0., 0., 1.243],\n",
    "                   [104.6712, 80.766608, -90., 0., 0., 1.28],\n",
    "                   [105.018, 81.183308, -90., 0., 0., 1.317],\n",
    "                   [105.369, 81.600908, -90., 0., 0., 1.354],\n",
    "                   [105.7242, 82.019408, -90., 0., 0., 1.391],\n",
    "                   [106.0836, 82.438808, -90., 0., 0., 1.428],\n",
    "                   [106.4472, 82.859108, -90., 0., 0., 1.465],\n",
    "                   [106.815, 83.280608, -90., 0., 0., 1.502],\n",
    "                   [107.187, 83.703308, -90., 0., 0., 1.539],\n",
    "                   [107.5632, 84.126608, -90., 0., 0., 1.576],\n",
    "                   [107.9442, 84.551108, -90.,  0., 0., 1.6135],\n",
    "                   [108.3291, 84.976808, -90.,  0., 0., 1.6505],\n",
    "                   [108.7188, 85.403709, -90.,  0., 0., 1.6875],\n",
    "                   [109.113, 85.831509, -90.,  0., 0., 1.7245],\n",
    "                   [109.5117, 86.260509, -90.,  0., 0., 1.7615],\n",
    "                   [109.9149, 86.690709, -90.,  0., 0., 1.7985],\n",
    "                   [110.3229, 87.122109, -90.,  0., 0., 1.8355],\n",
    "                   [110.7357, 87.554709, -90.,  0., 0., 1.8725],\n",
    "                   [111.153, 87.988809, -90.,  0., 0., 1.91],\n",
    "                   [111.5754, 88.424109, -90., 0., 0., 1.947],\n",
    "                   [112.0026, 88.860609, -90., 0., 0., 1.984],\n",
    "                   [112.4349, 89.298609, -90., 0., 0., 2.021],\n",
    "                   [112.8723, 89.737809, -90., 0., 0., 2.058],\n",
    "                   [113.3145, 90.178809, -90., 0., 0., 2.095],\n",
    "                   [113.7621, 90.621009, -90., 0., 0., 2.132],\n",
    "                   [114.2151, 91.065009, -90., 0., 0., 2.169],\n",
    "                   [114.6735, 91.510209, -90., 0., 0., 2.2065]])\n",
    "\n",
    "# Data folder path\n",
    "# path = \"LSCO_Nov12_broker\""
   ]
  },
  {
   "cell_type": "markdown",
   "metadata": {},
   "source": [
    "### Load the data"
   ]
  },
  {
   "cell_type": "code",
   "execution_count": 7,
   "metadata": {
    "collapsed": false
   },
   "outputs": [],
   "source": [
    "# intensity of the image stack data\n",
    "try:\n",
    "    i_stack = np.load(os.path.join(\"LSCO_Nov12_broker\", \"i_stack.npy\"))\n",
    "except IOError:\n",
    "    zipfile.ZipFile(os.path.join(\"LSCO_Nov12_broker.zip\")).extractall()\n",
    "    i_stack = np.load(os.path.join(\"LSCO_Nov12_broker\", \"i_stack.npy\"))\n"
   ]
  },
  {
   "cell_type": "code",
   "execution_count": null,
   "metadata": {
    "collapsed": true
   },
   "outputs": [],
   "source": []
  }
 ],
 "metadata": {
  "kernelspec": {
   "display_name": "Python 3",
   "language": "python",
   "name": "python3"
  },
  "language_info": {
   "codemirror_mode": {
    "name": "ipython",
    "version": 3
   },
   "file_extension": ".py",
   "mimetype": "text/x-python",
   "name": "python",
   "nbconvert_exporter": "python",
   "pygments_lexer": "ipython3",
   "version": "3.4.3"
  }
 },
 "nbformat": 4,
 "nbformat_minor": 0
}
